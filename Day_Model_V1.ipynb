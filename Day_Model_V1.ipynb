{
 "cells": [
  {
   "cell_type": "markdown",
   "metadata": {},
   "source": [
    "# Creating A Single Day, Discrete Event Simulation"
   ]
  },
  {
   "cell_type": "markdown",
   "metadata": {},
   "source": [
    "## Wanted inputs and outputs\n",
    "\n",
    "Imputs include:\n",
    "- daily price of energy\n",
    "- daily household energy consumption\n",
    "- commute distance\n",
    "- commute departures and return times\n",
    "- Elevtric Vehicle (EV) specifications"
   ]
  },
  {
   "cell_type": "code",
   "execution_count": 12,
   "metadata": {},
   "outputs": [],
   "source": [
    "import numpy as np\n",
    "import pandas as pd\n",
    "import random\n",
    "import matplotlib.pyplot as plt\n",
    "import seaborn as sns\n",
    "import matplotlib.animation as animation\n",
    "import xlrd\n",
    "from datetime import time"
   ]
  },
  {
   "cell_type": "code",
   "execution_count": 9,
   "metadata": {},
   "outputs": [],
   "source": [
    "# Daily model class\n",
    "\n",
    "class Day_Model:\n",
    "    def __init__(self, energy_price, energy_profile, commute_distance, commute_times, EV_specs):\n",
    "        self.energy_price = energy_price\n",
    "        self.energy_profile = energy_profile\n",
    "        self.commute_distance = commute_distance\n",
    "        self.commute_times = commute_times\n",
    "        self.EV_scpec = EV_specs\n",
    "    \n",
    "    def pass_time(self): # move time forward set interval\n",
    "        x=1\n",
    "    \n",
    "    def calculate_energy_use(self): # calculate hosuehold energy use in time interval\n",
    "        x=1\n",
    "    \n",
    "    def show_profile(self): # show energy profile for the day\n",
    "        x=1"
   ]
  },
  {
   "cell_type": "code",
   "execution_count": 10,
   "metadata": {},
   "outputs": [
    {
     "name": "stdout",
     "output_type": "stream",
     "text": [
      "[[datetime.time(0, 30) 0.28 0.31 0.35 0.29 0.31 0.33 0.27 0.31 0.32 0.29\n",
      "  0.33 0.33 0.33 0.39 0.41]\n",
      " [datetime.time(1, 0) 0.24 0.27 0.3 0.25 0.27 0.29 0.23 0.26 0.28 0.25\n",
      "  0.29 0.3 0.28 0.32 0.34]\n",
      " [datetime.time(1, 30) 0.21 0.24 0.24 0.22 0.23 0.25 0.21 0.23 0.25 0.22\n",
      "  0.25 0.27 0.25 0.28 0.3]\n",
      " [datetime.time(2, 0) 0.2 0.22 0.22 0.21 0.22 0.23 0.2 0.21 0.22 0.21\n",
      "  0.23 0.24 0.23 0.25 0.27]\n",
      " [datetime.time(2, 30) 0.19 0.2 0.21 0.2 0.21 0.21 0.19 0.2 0.21 0.2 0.22\n",
      "  0.22 0.22 0.23 0.25]\n",
      " [datetime.time(3, 0) 0.19 0.19 0.2 0.19 0.2 0.2 0.19 0.19 0.2 0.19 0.2\n",
      "  0.21 0.21 0.22 0.23]\n",
      " [datetime.time(3, 30) 0.18 0.19 0.19 0.19 0.19 0.2 0.18 0.19 0.19 0.19\n",
      "  0.19 0.2 0.21 0.21 0.22]\n",
      " [datetime.time(4, 0) 0.18 0.19 0.19 0.19 0.2 0.2 0.18 0.19 0.19 0.19\n",
      "  0.19 0.19 0.2 0.21 0.21]\n",
      " [datetime.time(4, 30) 0.19 0.19 0.19 0.19 0.19 0.2 0.18 0.19 0.19 0.19\n",
      "  0.19 0.19 0.2 0.21 0.21]\n",
      " [datetime.time(5, 0) 0.19 0.19 0.18 0.19 0.2 0.19 0.18 0.19 0.19 0.19\n",
      "  0.2 0.19 0.21 0.21 0.21]\n",
      " [datetime.time(5, 30) 0.19 0.19 0.19 0.2 0.2 0.2 0.19 0.19 0.19 0.19 0.2\n",
      "  0.2 0.22 0.22 0.21]\n",
      " [datetime.time(6, 0) 0.21 0.2 0.2 0.21 0.2 0.2 0.2 0.2 0.19 0.21 0.2 0.2\n",
      "  0.24 0.23 0.22]\n",
      " [datetime.time(6, 30) 0.26 0.23 0.2 0.24 0.22 0.21 0.25 0.22 0.2 0.27\n",
      "  0.23 0.21 0.31 0.27 0.24]\n",
      " [datetime.time(7, 0) 0.34 0.27 0.22 0.3 0.26 0.24 0.32 0.27 0.23 0.35\n",
      "  0.28 0.24 0.39 0.32 0.27]\n",
      " [datetime.time(7, 30) 0.43 0.33 0.27 0.37 0.33 0.28 0.4 0.31 0.28 0.42\n",
      "  0.33 0.29 0.52 0.39 0.31]\n",
      " [datetime.time(8, 0) 0.5 0.4 0.32 0.39 0.35 0.31 0.43 0.36 0.31 0.48\n",
      "  0.39 0.34 0.63 0.46 0.38]\n",
      " [datetime.time(8, 30) 0.49 0.44 0.37 0.41 0.37 0.35 0.44 0.4 0.37 0.49\n",
      "  0.43 0.42 0.62 0.51 0.44]\n",
      " [datetime.time(9, 0) 0.45 0.47 0.44 0.41 0.43 0.4 0.41 0.43 0.41 0.44\n",
      "  0.46 0.45 0.57 0.56 0.53]\n",
      " [datetime.time(9, 30) 0.42 0.47 0.49 0.4 0.43 0.44 0.4 0.46 0.46 0.43\n",
      "  0.49 0.5 0.52 0.57 0.58]\n",
      " [datetime.time(10, 0) 0.41 0.48 0.54 0.4 0.43 0.47 0.39 0.46 0.49 0.42\n",
      "  0.48 0.55 0.5 0.57 0.62]\n",
      " [datetime.time(10, 30) 0.41 0.48 0.55 0.39 0.43 0.5 0.38 0.46 0.52 0.41\n",
      "  0.49 0.55 0.49 0.57 0.68]\n",
      " [datetime.time(11, 0) 0.39 0.47 0.55 0.39 0.42 0.52 0.37 0.44 0.54 0.39\n",
      "  0.48 0.59 0.48 0.57 0.7]\n",
      " [datetime.time(11, 30) 0.38 0.45 0.56 0.37 0.41 0.53 0.37 0.43 0.56 0.38\n",
      "  0.47 0.61 0.47 0.56 0.73]\n",
      " [datetime.time(12, 0) 0.39 0.47 0.59 0.38 0.42 0.56 0.37 0.45 0.58 0.38\n",
      "  0.5 0.66 0.47 0.56 0.74]\n",
      " [datetime.time(12, 30) 0.41 0.49 0.63 0.4 0.44 0.58 0.39 0.47 0.61 0.42\n",
      "  0.52 0.67 0.49 0.59 0.77]\n",
      " [datetime.time(13, 0) 0.4 0.49 0.64 0.39 0.42 0.57 0.38 0.45 0.61 0.41\n",
      "  0.5 0.65 0.49 0.59 0.77]\n",
      " [datetime.time(13, 30) 0.39 0.45 0.61 0.37 0.41 0.55 0.36 0.43 0.57 0.39\n",
      "  0.46 0.61 0.47 0.58 0.74]\n",
      " [datetime.time(14, 0) 0.37 0.42 0.57 0.35 0.38 0.5 0.35 0.42 0.51 0.36\n",
      "  0.43 0.55 0.45 0.54 0.68]\n",
      " [datetime.time(14, 30) 0.36 0.41 0.47 0.35 0.37 0.45 0.34 0.41 0.46 0.37\n",
      "  0.41 0.49 0.44 0.52 0.63]\n",
      " [datetime.time(15, 0) 0.36 0.41 0.47 0.35 0.36 0.41 0.35 0.4 0.45 0.37\n",
      "  0.44 0.47 0.46 0.53 0.63]\n",
      " [datetime.time(15, 30) 0.37 0.41 0.46 0.36 0.37 0.41 0.35 0.4 0.46 0.37\n",
      "  0.43 0.46 0.47 0.53 0.64]\n",
      " [datetime.time(16, 0) 0.39 0.43 0.48 0.37 0.39 0.42 0.39 0.42 0.45 0.41\n",
      "  0.45 0.46 0.53 0.56 0.65]\n",
      " [datetime.time(16, 30) 0.46 0.46 0.48 0.42 0.4 0.42 0.44 0.42 0.46 0.46\n",
      "  0.5 0.49 0.64 0.63 0.72]\n",
      " [datetime.time(17, 0) 0.55 0.52 0.51 0.5 0.46 0.46 0.52 0.47 0.48 0.54\n",
      "  0.54 0.5 0.78 0.73 0.79]\n",
      " [datetime.time(17, 30) 0.61 0.58 0.54 0.53 0.48 0.49 0.56 0.52 0.49 0.6\n",
      "  0.58 0.55 0.89 0.83 0.86]\n",
      " [datetime.time(18, 0) 0.61 0.57 0.6 0.52 0.48 0.5 0.55 0.53 0.51 0.59\n",
      "  0.61 0.58 0.92 0.89 0.9]\n",
      " [datetime.time(18, 30) 0.65 0.61 0.62 0.51 0.48 0.5 0.54 0.5 0.51 0.58\n",
      "  0.61 0.57 0.92 0.89 0.92]\n",
      " [datetime.time(19, 0) 0.68 0.68 0.66 0.5 0.47 0.48 0.52 0.51 0.51 0.57\n",
      "  0.57 0.56 0.91 0.9 0.9]\n",
      " [datetime.time(19, 30) 0.69 0.71 0.71 0.48 0.46 0.48 0.5 0.5 0.5 0.57\n",
      "  0.59 0.58 0.88 0.89 0.88]\n",
      " [datetime.time(20, 0) 0.68 0.69 0.69 0.46 0.46 0.48 0.48 0.49 0.47 0.57\n",
      "  0.61 0.55 0.84 0.84 0.85]\n",
      " [datetime.time(20, 30) 0.69 0.67 0.68 0.48 0.48 0.5 0.47 0.47 0.48 0.61\n",
      "  0.62 0.62 0.8 0.8 0.82]\n",
      " [datetime.time(21, 0) 0.67 0.63 0.66 0.51 0.49 0.5 0.49 0.45 0.48 0.64\n",
      "  0.64 0.65 0.78 0.74 0.78]\n",
      " [datetime.time(21, 30) 0.66 0.63 0.66 0.56 0.5 0.53 0.51 0.47 0.52 0.67\n",
      "  0.63 0.67 0.77 0.73 0.77]\n",
      " [datetime.time(22, 0) 0.62 0.58 0.61 0.56 0.51 0.53 0.53 0.5 0.53 0.64\n",
      "  0.6 0.63 0.72 0.69 0.72]\n",
      " [datetime.time(22, 30) 0.58 0.55 0.58 0.54 0.49 0.52 0.55 0.51 0.54 0.61\n",
      "  0.57 0.59 0.67 0.64 0.67]\n",
      " [datetime.time(23, 0) 0.51 0.52 0.51 0.48 0.47 0.49 0.49 0.49 0.5 0.53\n",
      "  0.53 0.54 0.59 0.59 0.6]\n",
      " [datetime.time(23, 30) 0.42 0.46 0.42 0.41 0.42 0.41 0.41 0.43 0.41 0.45\n",
      "  0.47 0.44 0.49 0.52 0.5]\n",
      " [datetime.time(0, 0) 0.34 0.4 0.34 0.35 0.37 0.35 0.34 0.37 0.34 0.36\n",
      "  0.39 0.36 0.41 0.46 0.42]]\n"
     ]
    }
   ],
   "source": [
    "half_hour_profile = pd.read_excel('./Profile Class 1.xlsx', sheet_name=0).to_numpy()\n",
    "five_min_profile = pd.read_excel('./Profile Class 1.xlsx', sheet_name=1).to_numpy()\n",
    "date_values = xlrd.xldate_as_tuple(cell_with_excel_time, wb.datemode)  \n",
    "print(half_hour_profile)"
   ]
  },
  {
   "cell_type": "code",
   "execution_count": 11,
   "metadata": {},
   "outputs": [
    {
     "ename": "TypeError",
     "evalue": "float() argument must be a string or a number, not 'datetime.time'",
     "output_type": "error",
     "traceback": [
      "\u001b[1;31m---------------------------------------------------------------------------\u001b[0m",
      "\u001b[1;31mTypeError\u001b[0m                                 Traceback (most recent call last)",
      "\u001b[1;32m<ipython-input-11-0089f9274247>\u001b[0m in \u001b[0;36m<module>\u001b[1;34m\u001b[0m\n\u001b[0;32m      4\u001b[0m \u001b[0my\u001b[0m\u001b[1;33m=\u001b[0m \u001b[0mhalf_hour_profile\u001b[0m\u001b[1;33m[\u001b[0m\u001b[1;33m:\u001b[0m\u001b[1;33m,\u001b[0m\u001b[1;36m1\u001b[0m\u001b[1;33m]\u001b[0m\u001b[1;33m\u001b[0m\u001b[1;33m\u001b[0m\u001b[0m\n\u001b[0;32m      5\u001b[0m \u001b[1;33m\u001b[0m\u001b[0m\n\u001b[1;32m----> 6\u001b[1;33m \u001b[0mplt\u001b[0m\u001b[1;33m.\u001b[0m\u001b[0mplot\u001b[0m\u001b[1;33m(\u001b[0m\u001b[0mx\u001b[0m\u001b[1;33m,\u001b[0m\u001b[0my\u001b[0m\u001b[1;33m)\u001b[0m\u001b[1;33m\u001b[0m\u001b[1;33m\u001b[0m\u001b[0m\n\u001b[0m\u001b[0;32m      7\u001b[0m \u001b[0mplt\u001b[0m\u001b[1;33m.\u001b[0m\u001b[0mgcf\u001b[0m\u001b[1;33m(\u001b[0m\u001b[1;33m)\u001b[0m\u001b[1;33m.\u001b[0m\u001b[0mautofmt_xdate\u001b[0m\u001b[1;33m(\u001b[0m\u001b[1;33m)\u001b[0m\u001b[1;33m\u001b[0m\u001b[1;33m\u001b[0m\u001b[0m\n\u001b[0;32m      8\u001b[0m \u001b[0mplt\u001b[0m\u001b[1;33m.\u001b[0m\u001b[0mshow\u001b[0m\u001b[1;33m(\u001b[0m\u001b[1;33m)\u001b[0m\u001b[1;33m\u001b[0m\u001b[1;33m\u001b[0m\u001b[0m\n",
      "\u001b[1;32m~\\anaconda3\\lib\\site-packages\\matplotlib\\pyplot.py\u001b[0m in \u001b[0;36mplot\u001b[1;34m(scalex, scaley, data, *args, **kwargs)\u001b[0m\n\u001b[0;32m   2838\u001b[0m \u001b[1;33m@\u001b[0m\u001b[0m_copy_docstring_and_deprecators\u001b[0m\u001b[1;33m(\u001b[0m\u001b[0mAxes\u001b[0m\u001b[1;33m.\u001b[0m\u001b[0mplot\u001b[0m\u001b[1;33m)\u001b[0m\u001b[1;33m\u001b[0m\u001b[1;33m\u001b[0m\u001b[0m\n\u001b[0;32m   2839\u001b[0m \u001b[1;32mdef\u001b[0m \u001b[0mplot\u001b[0m\u001b[1;33m(\u001b[0m\u001b[1;33m*\u001b[0m\u001b[0margs\u001b[0m\u001b[1;33m,\u001b[0m \u001b[0mscalex\u001b[0m\u001b[1;33m=\u001b[0m\u001b[1;32mTrue\u001b[0m\u001b[1;33m,\u001b[0m \u001b[0mscaley\u001b[0m\u001b[1;33m=\u001b[0m\u001b[1;32mTrue\u001b[0m\u001b[1;33m,\u001b[0m \u001b[0mdata\u001b[0m\u001b[1;33m=\u001b[0m\u001b[1;32mNone\u001b[0m\u001b[1;33m,\u001b[0m \u001b[1;33m**\u001b[0m\u001b[0mkwargs\u001b[0m\u001b[1;33m)\u001b[0m\u001b[1;33m:\u001b[0m\u001b[1;33m\u001b[0m\u001b[1;33m\u001b[0m\u001b[0m\n\u001b[1;32m-> 2840\u001b[1;33m     return gca().plot(\n\u001b[0m\u001b[0;32m   2841\u001b[0m         \u001b[1;33m*\u001b[0m\u001b[0margs\u001b[0m\u001b[1;33m,\u001b[0m \u001b[0mscalex\u001b[0m\u001b[1;33m=\u001b[0m\u001b[0mscalex\u001b[0m\u001b[1;33m,\u001b[0m \u001b[0mscaley\u001b[0m\u001b[1;33m=\u001b[0m\u001b[0mscaley\u001b[0m\u001b[1;33m,\u001b[0m\u001b[1;33m\u001b[0m\u001b[1;33m\u001b[0m\u001b[0m\n\u001b[0;32m   2842\u001b[0m         **({\"data\": data} if data is not None else {}), **kwargs)\n",
      "\u001b[1;32m~\\anaconda3\\lib\\site-packages\\matplotlib\\axes\\_axes.py\u001b[0m in \u001b[0;36mplot\u001b[1;34m(self, scalex, scaley, data, *args, **kwargs)\u001b[0m\n\u001b[0;32m   1743\u001b[0m         \u001b[0mlines\u001b[0m \u001b[1;33m=\u001b[0m \u001b[1;33m[\u001b[0m\u001b[1;33m*\u001b[0m\u001b[0mself\u001b[0m\u001b[1;33m.\u001b[0m\u001b[0m_get_lines\u001b[0m\u001b[1;33m(\u001b[0m\u001b[1;33m*\u001b[0m\u001b[0margs\u001b[0m\u001b[1;33m,\u001b[0m \u001b[0mdata\u001b[0m\u001b[1;33m=\u001b[0m\u001b[0mdata\u001b[0m\u001b[1;33m,\u001b[0m \u001b[1;33m**\u001b[0m\u001b[0mkwargs\u001b[0m\u001b[1;33m)\u001b[0m\u001b[1;33m]\u001b[0m\u001b[1;33m\u001b[0m\u001b[1;33m\u001b[0m\u001b[0m\n\u001b[0;32m   1744\u001b[0m         \u001b[1;32mfor\u001b[0m \u001b[0mline\u001b[0m \u001b[1;32min\u001b[0m \u001b[0mlines\u001b[0m\u001b[1;33m:\u001b[0m\u001b[1;33m\u001b[0m\u001b[1;33m\u001b[0m\u001b[0m\n\u001b[1;32m-> 1745\u001b[1;33m             \u001b[0mself\u001b[0m\u001b[1;33m.\u001b[0m\u001b[0madd_line\u001b[0m\u001b[1;33m(\u001b[0m\u001b[0mline\u001b[0m\u001b[1;33m)\u001b[0m\u001b[1;33m\u001b[0m\u001b[1;33m\u001b[0m\u001b[0m\n\u001b[0m\u001b[0;32m   1746\u001b[0m         \u001b[0mself\u001b[0m\u001b[1;33m.\u001b[0m\u001b[0m_request_autoscale_view\u001b[0m\u001b[1;33m(\u001b[0m\u001b[0mscalex\u001b[0m\u001b[1;33m=\u001b[0m\u001b[0mscalex\u001b[0m\u001b[1;33m,\u001b[0m \u001b[0mscaley\u001b[0m\u001b[1;33m=\u001b[0m\u001b[0mscaley\u001b[0m\u001b[1;33m)\u001b[0m\u001b[1;33m\u001b[0m\u001b[1;33m\u001b[0m\u001b[0m\n\u001b[0;32m   1747\u001b[0m         \u001b[1;32mreturn\u001b[0m \u001b[0mlines\u001b[0m\u001b[1;33m\u001b[0m\u001b[1;33m\u001b[0m\u001b[0m\n",
      "\u001b[1;32m~\\anaconda3\\lib\\site-packages\\matplotlib\\axes\\_base.py\u001b[0m in \u001b[0;36madd_line\u001b[1;34m(self, line)\u001b[0m\n\u001b[0;32m   1962\u001b[0m             \u001b[0mline\u001b[0m\u001b[1;33m.\u001b[0m\u001b[0mset_clip_path\u001b[0m\u001b[1;33m(\u001b[0m\u001b[0mself\u001b[0m\u001b[1;33m.\u001b[0m\u001b[0mpatch\u001b[0m\u001b[1;33m)\u001b[0m\u001b[1;33m\u001b[0m\u001b[1;33m\u001b[0m\u001b[0m\n\u001b[0;32m   1963\u001b[0m \u001b[1;33m\u001b[0m\u001b[0m\n\u001b[1;32m-> 1964\u001b[1;33m         \u001b[0mself\u001b[0m\u001b[1;33m.\u001b[0m\u001b[0m_update_line_limits\u001b[0m\u001b[1;33m(\u001b[0m\u001b[0mline\u001b[0m\u001b[1;33m)\u001b[0m\u001b[1;33m\u001b[0m\u001b[1;33m\u001b[0m\u001b[0m\n\u001b[0m\u001b[0;32m   1965\u001b[0m         \u001b[1;32mif\u001b[0m \u001b[1;32mnot\u001b[0m \u001b[0mline\u001b[0m\u001b[1;33m.\u001b[0m\u001b[0mget_label\u001b[0m\u001b[1;33m(\u001b[0m\u001b[1;33m)\u001b[0m\u001b[1;33m:\u001b[0m\u001b[1;33m\u001b[0m\u001b[1;33m\u001b[0m\u001b[0m\n\u001b[0;32m   1966\u001b[0m             \u001b[0mline\u001b[0m\u001b[1;33m.\u001b[0m\u001b[0mset_label\u001b[0m\u001b[1;33m(\u001b[0m\u001b[1;34m'_line%d'\u001b[0m \u001b[1;33m%\u001b[0m \u001b[0mlen\u001b[0m\u001b[1;33m(\u001b[0m\u001b[0mself\u001b[0m\u001b[1;33m.\u001b[0m\u001b[0mlines\u001b[0m\u001b[1;33m)\u001b[0m\u001b[1;33m)\u001b[0m\u001b[1;33m\u001b[0m\u001b[1;33m\u001b[0m\u001b[0m\n",
      "\u001b[1;32m~\\anaconda3\\lib\\site-packages\\matplotlib\\axes\\_base.py\u001b[0m in \u001b[0;36m_update_line_limits\u001b[1;34m(self, line)\u001b[0m\n\u001b[0;32m   1984\u001b[0m         \u001b[0mFigures\u001b[0m \u001b[0mout\u001b[0m \u001b[0mthe\u001b[0m \u001b[0mdata\u001b[0m \u001b[0mlimit\u001b[0m \u001b[0mof\u001b[0m \u001b[0mthe\u001b[0m \u001b[0mgiven\u001b[0m \u001b[0mline\u001b[0m\u001b[1;33m,\u001b[0m \u001b[0mupdating\u001b[0m \u001b[0mself\u001b[0m\u001b[1;33m.\u001b[0m\u001b[0mdataLim\u001b[0m\u001b[1;33m.\u001b[0m\u001b[1;33m\u001b[0m\u001b[1;33m\u001b[0m\u001b[0m\n\u001b[0;32m   1985\u001b[0m         \"\"\"\n\u001b[1;32m-> 1986\u001b[1;33m         \u001b[0mpath\u001b[0m \u001b[1;33m=\u001b[0m \u001b[0mline\u001b[0m\u001b[1;33m.\u001b[0m\u001b[0mget_path\u001b[0m\u001b[1;33m(\u001b[0m\u001b[1;33m)\u001b[0m\u001b[1;33m\u001b[0m\u001b[1;33m\u001b[0m\u001b[0m\n\u001b[0m\u001b[0;32m   1987\u001b[0m         \u001b[1;32mif\u001b[0m \u001b[0mpath\u001b[0m\u001b[1;33m.\u001b[0m\u001b[0mvertices\u001b[0m\u001b[1;33m.\u001b[0m\u001b[0msize\u001b[0m \u001b[1;33m==\u001b[0m \u001b[1;36m0\u001b[0m\u001b[1;33m:\u001b[0m\u001b[1;33m\u001b[0m\u001b[1;33m\u001b[0m\u001b[0m\n\u001b[0;32m   1988\u001b[0m             \u001b[1;32mreturn\u001b[0m\u001b[1;33m\u001b[0m\u001b[1;33m\u001b[0m\u001b[0m\n",
      "\u001b[1;32m~\\anaconda3\\lib\\site-packages\\matplotlib\\lines.py\u001b[0m in \u001b[0;36mget_path\u001b[1;34m(self)\u001b[0m\n\u001b[0;32m   1009\u001b[0m         \"\"\"\n\u001b[0;32m   1010\u001b[0m         \u001b[1;32mif\u001b[0m \u001b[0mself\u001b[0m\u001b[1;33m.\u001b[0m\u001b[0m_invalidy\u001b[0m \u001b[1;32mor\u001b[0m \u001b[0mself\u001b[0m\u001b[1;33m.\u001b[0m\u001b[0m_invalidx\u001b[0m\u001b[1;33m:\u001b[0m\u001b[1;33m\u001b[0m\u001b[1;33m\u001b[0m\u001b[0m\n\u001b[1;32m-> 1011\u001b[1;33m             \u001b[0mself\u001b[0m\u001b[1;33m.\u001b[0m\u001b[0mrecache\u001b[0m\u001b[1;33m(\u001b[0m\u001b[1;33m)\u001b[0m\u001b[1;33m\u001b[0m\u001b[1;33m\u001b[0m\u001b[0m\n\u001b[0m\u001b[0;32m   1012\u001b[0m         \u001b[1;32mreturn\u001b[0m \u001b[0mself\u001b[0m\u001b[1;33m.\u001b[0m\u001b[0m_path\u001b[0m\u001b[1;33m\u001b[0m\u001b[1;33m\u001b[0m\u001b[0m\n\u001b[0;32m   1013\u001b[0m \u001b[1;33m\u001b[0m\u001b[0m\n",
      "\u001b[1;32m~\\anaconda3\\lib\\site-packages\\matplotlib\\lines.py\u001b[0m in \u001b[0;36mrecache\u001b[1;34m(self, always)\u001b[0m\n\u001b[0;32m    651\u001b[0m         \u001b[1;32mif\u001b[0m \u001b[0malways\u001b[0m \u001b[1;32mor\u001b[0m \u001b[0mself\u001b[0m\u001b[1;33m.\u001b[0m\u001b[0m_invalidx\u001b[0m\u001b[1;33m:\u001b[0m\u001b[1;33m\u001b[0m\u001b[1;33m\u001b[0m\u001b[0m\n\u001b[0;32m    652\u001b[0m             \u001b[0mxconv\u001b[0m \u001b[1;33m=\u001b[0m \u001b[0mself\u001b[0m\u001b[1;33m.\u001b[0m\u001b[0mconvert_xunits\u001b[0m\u001b[1;33m(\u001b[0m\u001b[0mself\u001b[0m\u001b[1;33m.\u001b[0m\u001b[0m_xorig\u001b[0m\u001b[1;33m)\u001b[0m\u001b[1;33m\u001b[0m\u001b[1;33m\u001b[0m\u001b[0m\n\u001b[1;32m--> 653\u001b[1;33m             \u001b[0mx\u001b[0m \u001b[1;33m=\u001b[0m \u001b[0m_to_unmasked_float_array\u001b[0m\u001b[1;33m(\u001b[0m\u001b[0mxconv\u001b[0m\u001b[1;33m)\u001b[0m\u001b[1;33m.\u001b[0m\u001b[0mravel\u001b[0m\u001b[1;33m(\u001b[0m\u001b[1;33m)\u001b[0m\u001b[1;33m\u001b[0m\u001b[1;33m\u001b[0m\u001b[0m\n\u001b[0m\u001b[0;32m    654\u001b[0m         \u001b[1;32melse\u001b[0m\u001b[1;33m:\u001b[0m\u001b[1;33m\u001b[0m\u001b[1;33m\u001b[0m\u001b[0m\n\u001b[0;32m    655\u001b[0m             \u001b[0mx\u001b[0m \u001b[1;33m=\u001b[0m \u001b[0mself\u001b[0m\u001b[1;33m.\u001b[0m\u001b[0m_x\u001b[0m\u001b[1;33m\u001b[0m\u001b[1;33m\u001b[0m\u001b[0m\n",
      "\u001b[1;32m~\\anaconda3\\lib\\site-packages\\matplotlib\\cbook\\__init__.py\u001b[0m in \u001b[0;36m_to_unmasked_float_array\u001b[1;34m(x)\u001b[0m\n\u001b[0;32m   1287\u001b[0m         \u001b[1;32mreturn\u001b[0m \u001b[0mnp\u001b[0m\u001b[1;33m.\u001b[0m\u001b[0mma\u001b[0m\u001b[1;33m.\u001b[0m\u001b[0masarray\u001b[0m\u001b[1;33m(\u001b[0m\u001b[0mx\u001b[0m\u001b[1;33m,\u001b[0m \u001b[0mfloat\u001b[0m\u001b[1;33m)\u001b[0m\u001b[1;33m.\u001b[0m\u001b[0mfilled\u001b[0m\u001b[1;33m(\u001b[0m\u001b[0mnp\u001b[0m\u001b[1;33m.\u001b[0m\u001b[0mnan\u001b[0m\u001b[1;33m)\u001b[0m\u001b[1;33m\u001b[0m\u001b[1;33m\u001b[0m\u001b[0m\n\u001b[0;32m   1288\u001b[0m     \u001b[1;32melse\u001b[0m\u001b[1;33m:\u001b[0m\u001b[1;33m\u001b[0m\u001b[1;33m\u001b[0m\u001b[0m\n\u001b[1;32m-> 1289\u001b[1;33m         \u001b[1;32mreturn\u001b[0m \u001b[0mnp\u001b[0m\u001b[1;33m.\u001b[0m\u001b[0masarray\u001b[0m\u001b[1;33m(\u001b[0m\u001b[0mx\u001b[0m\u001b[1;33m,\u001b[0m \u001b[0mfloat\u001b[0m\u001b[1;33m)\u001b[0m\u001b[1;33m\u001b[0m\u001b[1;33m\u001b[0m\u001b[0m\n\u001b[0m\u001b[0;32m   1290\u001b[0m \u001b[1;33m\u001b[0m\u001b[0m\n\u001b[0;32m   1291\u001b[0m \u001b[1;33m\u001b[0m\u001b[0m\n",
      "\u001b[1;32m~\\anaconda3\\lib\\site-packages\\numpy\\core\\_asarray.py\u001b[0m in \u001b[0;36masarray\u001b[1;34m(a, dtype, order)\u001b[0m\n\u001b[0;32m     81\u001b[0m \u001b[1;33m\u001b[0m\u001b[0m\n\u001b[0;32m     82\u001b[0m     \"\"\"\n\u001b[1;32m---> 83\u001b[1;33m     \u001b[1;32mreturn\u001b[0m \u001b[0marray\u001b[0m\u001b[1;33m(\u001b[0m\u001b[0ma\u001b[0m\u001b[1;33m,\u001b[0m \u001b[0mdtype\u001b[0m\u001b[1;33m,\u001b[0m \u001b[0mcopy\u001b[0m\u001b[1;33m=\u001b[0m\u001b[1;32mFalse\u001b[0m\u001b[1;33m,\u001b[0m \u001b[0morder\u001b[0m\u001b[1;33m=\u001b[0m\u001b[0morder\u001b[0m\u001b[1;33m)\u001b[0m\u001b[1;33m\u001b[0m\u001b[1;33m\u001b[0m\u001b[0m\n\u001b[0m\u001b[0;32m     84\u001b[0m \u001b[1;33m\u001b[0m\u001b[0m\n\u001b[0;32m     85\u001b[0m \u001b[1;33m\u001b[0m\u001b[0m\n",
      "\u001b[1;31mTypeError\u001b[0m: float() argument must be a string or a number, not 'datetime.time'"
     ]
    },
    {
     "data": {
      "image/png": "[encoded data removed]",
      "text/plain": [
       "<Figure size 432x288 with 1 Axes>"
      ]
     },
     "metadata": {
      "needs_background": "light"
     },
     "output_type": "display_data"
    }
   ],
   "source": [
    "# plotting against time\n",
    "\n",
    "x = half_hour_profile[:,0]\n",
    "y= half_hour_profile[:,1]\n",
    "\n",
    "plt.plot(x,y)\n",
    "plt.gcf().autofmt_xdate()\n",
    "plt.show()"
   ]
  },
  {
   "cell_type": "code",
   "execution_count": null,
   "metadata": {},
   "outputs": [],
   "source": []
  },
  {
   "cell_type": "code",
   "execution_count": null,
   "metadata": {},
   "outputs": [],
   "source": []
  }
 ],
 "metadata": {
  "kernelspec": {
   "display_name": "Python 3",
   "language": "python",
   "name": "python3"
  },
  "language_info": {
   "codemirror_mode": {
    "name": "ipython",
    "version": 3
   },
   "file_extension": ".py",
   "mimetype": "text/x-python",
   "name": "python",
   "nbconvert_exporter": "python",
   "pygments_lexer": "ipython3",
   "version": "3.8.5"
  }
 },
 "nbformat": 4,
 "nbformat_minor": 4
}
