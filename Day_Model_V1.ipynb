{
 "cells": [
  {
   "cell_type": "markdown",
   "metadata": {},
   "source": [
    "# Creating A Single Day, Discrete Event Simulation"
   ]
  },
  {
   "cell_type": "markdown",
   "metadata": {},
   "source": [
    "## Wanted inputs and outputs\n",
    "\n",
    "Imputs include:\n",
    "- daily price of energy\n",
    "- daily household energy consumption\n",
    "- commute distance\n",
    "- commute departures and return times\n",
    "- Elevtric Vehicle (EV) specifications"
   ]
  },
  {
   "cell_type": "code",
   "execution_count": 1,
   "metadata": {},
   "outputs": [],
   "source": [
    "import numpy as np\n",
    "import pandas as pd\n",
    "from pandas import DataFrame as df\n",
    "import random\n",
    "import matplotlib.pyplot as plt\n",
    "import seaborn as sns\n",
    "import matplotlib.animation as animation\n",
    "import xlrd\n",
    "import datetime\n",
    "from datetime import datetime\n",
    "from scipy.interpolate import interp1d"
   ]
  },
  {
   "cell_type": "code",
   "execution_count": 2,
   "metadata": {},
   "outputs": [],
   "source": [
    "# Daily model class\n",
    "\n",
    "class Day_Model:\n",
    "    def __init__(self, energy_price, energy_profile, commute_distance, commute_times, EV_specs):\n",
    "        self.energy_price = energy_price\n",
    "        self.energy_profile = energy_profile\n",
    "        self.commute_distance = commute_distance\n",
    "        self.commute_times = commute_times\n",
    "        self.EV_scpec = EV_specs\n",
    "    \n",
    "    def pass_time(self): # move time forward set interval\n",
    "        x=1\n",
    "    \n",
    "    def calculate_energy_use(self): # calculate hosuehold energy use in time interval\n",
    "        x=1\n",
    "    \n",
    "    def show_profile(self): # show energy profile for the day\n",
    "        x=1"
   ]
  },
  {
   "cell_type": "code",
   "execution_count": 3,
   "metadata": {
    "scrolled": false
   },
   "outputs": [],
   "source": [
    "half_hour_profile = pd.read_excel('./Profile Class 1.xlsx', sheet_name=0, parse_dates=[1])\n",
    "five_min_profile = pd.read_excel('./Profile Class 1.xlsx', sheet_name=1, parse_dates=[1])"
   ]
  },
  {
   "cell_type": "code",
   "execution_count": 4,
   "metadata": {},
   "outputs": [
    {
     "name": "stdout",
     "output_type": "stream",
     "text": [
      "0       6\n",
      "1      12\n",
      "2      18\n",
      "3      24\n",
      "4      30\n",
      "5      36\n",
      "6      42\n",
      "7      48\n",
      "8      54\n",
      "9      60\n",
      "10     66\n",
      "11     72\n",
      "12     78\n",
      "13     84\n",
      "14     90\n",
      "15     96\n",
      "16    102\n",
      "17    108\n",
      "18    114\n",
      "19    120\n",
      "20    126\n",
      "21    132\n",
      "22    138\n",
      "23    144\n",
      "24    150\n",
      "25    156\n",
      "26    162\n",
      "27    168\n",
      "28    174\n",
      "29    180\n",
      "30    186\n",
      "31    192\n",
      "32    198\n",
      "33    204\n",
      "34    210\n",
      "35    216\n",
      "36    222\n",
      "37    228\n",
      "38    234\n",
      "39    240\n",
      "40    246\n",
      "41    252\n",
      "42    258\n",
      "43    264\n",
      "44    270\n",
      "45    276\n",
      "46    282\n",
      "47    288\n",
      "Name: Index, dtype: int64\n"
     ]
    }
   ],
   "source": [
    "# plotting against time\n",
    "\n",
    "\n",
    "\n",
    "five_min_interp = np.interp(five_min_profile['Index'], half_hour_profile['Index'], half_hour_profile['Aut Wd'])"
   ]
  },
  {
   "cell_type": "code",
   "execution_count": 5,
   "metadata": {},
   "outputs": [
    {
     "data": {
      "image/png": "[encoded data removed]",
      "text/plain": [
       "<Figure size 432x288 with 1 Axes>"
      ]
     },
     "metadata": {
      "needs_background": "light"
     },
     "output_type": "display_data"
    }
   ],
   "source": [
    "plt.plot(half_hour_profile['Time'],half_hour_profile['Aut Wd'], label = 'line 1')\n",
    "plt.plot(five_min_profile['Time'], five_min_profile['Aut Wd'], label = \"line 2\")\n",
    "plt.plot(five_min_profile['Time'], five_min_interp, label = \"line 3\")\n",
    "plt.legend()\n",
    "plt.show()"
   ]
  },
  {
   "cell_type": "code",
   "execution_count": null,
   "metadata": {},
   "outputs": [],
   "source": []
  }
 ],
 "metadata": {
  "kernelspec": {
   "display_name": "Python 3",
   "language": "python",
   "name": "python3"
  },
  "language_info": {
   "codemirror_mode": {
    "name": "ipython",
    "version": 3
   },
   "file_extension": ".py",
   "mimetype": "text/x-python",
   "name": "python",
   "nbconvert_exporter": "python",
   "pygments_lexer": "ipython3",
   "version": "3.8.5"
  }
 },
 "nbformat": 4,
 "nbformat_minor": 4
}
